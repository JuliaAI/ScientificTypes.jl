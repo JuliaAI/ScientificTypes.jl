{
 "cells": [
  {
   "outputs": [],
   "cell_type": "markdown",
   "source": [
    "## ScientificTypes"
   ],
   "metadata": {}
  },
  {
   "outputs": [],
   "cell_type": "markdown",
   "source": [
    "A light-weight julia interface for implementing conventions about the\n",
    "scientific interpretation of data, and for performing type coercions\n",
    "enforcing those conventions."
   ],
   "metadata": {}
  },
  {
   "outputs": [],
   "cell_type": "markdown",
   "source": [
    "ScientificTypes provides:"
   ],
   "metadata": {}
  },
  {
   "outputs": [],
   "cell_type": "markdown",
   "source": [
    "- A hierarchy of new julia types representing scientific data types\n",
    "  for use in method dispatch (eg, for trait values). Instances of\n",
    "  the types play no role:"
   ],
   "metadata": {}
  },
  {
   "outputs": [
    {
     "name": "stdout",
     "output_type": "stream",
     "text": [
      "Found\n",
      "├─ Known\n",
      "│  ├─ Finite\n",
      "│  │  ├─ Multiclass\n",
      "│  │  └─ OrderedFactor\n",
      "│  ├─ Image\n",
      "│  │  ├─ ColorImage\n",
      "│  │  └─ GrayImage\n",
      "│  ├─ Infinite\n",
      "│  │  ├─ Continuous\n",
      "│  │  └─ Count\n",
      "│  └─ Table\n",
      "└─ Unknown\n"
     ]
    }
   ],
   "cell_type": "code",
   "source": [
    "using ScientificTypes, AbstractTrees\n",
    "ScientificTypes.tree()"
   ],
   "metadata": {},
   "execution_count": 1
  },
  {
   "outputs": [],
   "cell_type": "markdown",
   "source": [
    "- A single method `scitype` for articulating a convention about what\n",
    "  scientific type each julia object can represent. For example, one\n",
    "  might declare `scitype(::AbstractFloat) = Continuous`."
   ],
   "metadata": {}
  },
  {
   "outputs": [],
   "cell_type": "markdown",
   "source": [
    "- A default convention called *mlj*, based on optional dependencies\n",
    "  CategoricalArrays, ColorTypes, and Tables, which includes a convenience\n",
    "  method `coerce` for performing scientific type coercion on\n",
    "  AbstractVectors and columns of tabular data (any table\n",
    "  implementing the\n",
    "  [Tables.jl](https://github.com/JuliaData/Tables.jl) interface). A\n",
    "  table at the end of this document details the convention."
   ],
   "metadata": {}
  },
  {
   "outputs": [],
   "cell_type": "markdown",
   "source": [
    "- A `schema` method for tabular data, based on the optional Tables\n",
    "  dependency, for inspecting the machine and scientific types of\n",
    "  tabular data."
   ],
   "metadata": {}
  },
  {
   "outputs": [],
   "cell_type": "markdown",
   "source": [
    "The only core dependencies of ScientificTypes are Requires and\n",
    "InteractiveUtils (from the standard library)."
   ],
   "metadata": {}
  },
  {
   "outputs": [],
   "cell_type": "markdown",
   "source": [
    "### Quick start"
   ],
   "metadata": {}
  },
  {
   "outputs": [],
   "cell_type": "markdown",
   "source": [
    "Install with `using Pkg; add ScientificTypes`."
   ],
   "metadata": {}
  },
  {
   "outputs": [],
   "cell_type": "markdown",
   "source": [
    "Get the scientific type of some julia object, using the default\n",
    "convention:"
   ],
   "metadata": {}
  },
  {
   "outputs": [
    {
     "output_type": "execute_result",
     "data": {
      "text/plain": "ScientificTypes.Continuous"
     },
     "metadata": {},
     "execution_count": 2
    }
   ],
   "cell_type": "code",
   "source": [
    "scitype(3.14)"
   ],
   "metadata": {},
   "execution_count": 2
  },
  {
   "outputs": [],
   "cell_type": "markdown",
   "source": [
    "#### Typical type coercion work-flow for tabular data"
   ],
   "metadata": {}
  },
  {
   "outputs": [
    {
     "output_type": "execute_result",
     "data": {
      "text/plain": "4×3 DataFrames.DataFrame\n│ Row │ name    │ height  │ rating │\n│     │ \u001b[90mString\u001b[39m  │ \u001b[90mInt64⍰\u001b[39m  │ \u001b[90mInt64\u001b[39m  │\n├─────┼─────────┼─────────┼────────┤\n│ 1   │ Siri    │ 152     │ 1      │\n│ 2   │ Robo    │ \u001b[90mmissing\u001b[39m │ 5      │\n│ 3   │ Alexa   │ 148     │ 2      │\n│ 4   │ Cortana │ 163     │ 1      │",
      "text/html": [
       "<table class=\"data-frame\"><thead><tr><th></th><th>name</th><th>height</th><th>rating</th></tr><tr><th></th><th>String</th><th>Int64⍰</th><th>Int64</th></tr></thead><tbody><p>4 rows × 3 columns</p><tr><th>1</th><td>Siri</td><td>152</td><td>1</td></tr><tr><th>2</th><td>Robo</td><td>missing</td><td>5</td></tr><tr><th>3</th><td>Alexa</td><td>148</td><td>2</td></tr><tr><th>4</th><td>Cortana</td><td>163</td><td>1</td></tr></tbody></table>"
      ]
     },
     "metadata": {},
     "execution_count": 3
    }
   ],
   "cell_type": "code",
   "source": [
    "using CategoricalArrays, DataFrames, Tables\n",
    "X = DataFrame(name=[\"Siri\", \"Robo\", \"Alexa\", \"Cortana\"],\n",
    "              height=[152, missing, 148, 163],\n",
    "              rating=[1, 5, 2, 1])"
   ],
   "metadata": {},
   "execution_count": 3
  },
  {
   "outputs": [
    {
     "output_type": "execute_result",
     "data": {
      "text/plain": "(names = (:name, :height, :rating), types = (String, Union{Missing, Int64}, Int64), scitypes = (ScientificTypes.Unknown, Union{Missing, Count}, ScientificTypes.Count))"
     },
     "metadata": {},
     "execution_count": 4
    }
   ],
   "cell_type": "code",
   "source": [
    "schema(X)"
   ],
   "metadata": {},
   "execution_count": 4
  },
  {
   "outputs": [
    {
     "output_type": "execute_result",
     "data": {
      "text/plain": "(ScientificTypes.Unknown, Union{Missing, Count}, ScientificTypes.Count)"
     },
     "metadata": {},
     "execution_count": 5
    }
   ],
   "cell_type": "code",
   "source": [
    "schema(X).scitypes"
   ],
   "metadata": {},
   "execution_count": 5
  },
  {
   "outputs": [
    {
     "name": "stdout",
     "output_type": "stream",
     "text": [
      "┌ Warning: Missing values encountered coercing scitype to ScientificTypes.Continuous.\n",
      "│ Coerced to Union{Missing,ScientificTypes.Continuous} instead. \n",
      "└ @ ScientificTypes /Users/anthony/Dropbox/Julia7/MLJ/ScientificTypes/src/conventions/mlj/mlj.jl:5\n"
     ]
    },
    {
     "output_type": "execute_result",
     "data": {
      "text/plain": "4×3 DataFrames.DataFrame\n│ Row │ name         │ height   │ rating       │\n│     │ \u001b[90mCategorical…\u001b[39m │ \u001b[90mFloat64⍰\u001b[39m │ \u001b[90mCategorical…\u001b[39m │\n├─────┼──────────────┼──────────┼──────────────┤\n│ 1   │ Siri         │ 152.0    │ 1            │\n│ 2   │ Robo         │ \u001b[90mmissing\u001b[39m  │ 5            │\n│ 3   │ Alexa        │ 148.0    │ 2            │\n│ 4   │ Cortana      │ 163.0    │ 1            │",
      "text/html": [
       "<table class=\"data-frame\"><thead><tr><th></th><th>name</th><th>height</th><th>rating</th></tr><tr><th></th><th>Categorical…</th><th>Float64⍰</th><th>Categorical…</th></tr></thead><tbody><p>4 rows × 3 columns</p><tr><th>1</th><td>Siri</td><td>152.0</td><td>1</td></tr><tr><th>2</th><td>Robo</td><td>missing</td><td>5</td></tr><tr><th>3</th><td>Alexa</td><td>148.0</td><td>2</td></tr><tr><th>4</th><td>Cortana</td><td>163.0</td><td>1</td></tr></tbody></table>"
      ]
     },
     "metadata": {},
     "execution_count": 6
    }
   ],
   "cell_type": "code",
   "source": [
    "fix = Dict(:name=>Multiclass,\n",
    "           :height=>Continuous,\n",
    "           :rating=>OrderedFactor);\n",
    "Xfixed = coerce(fix, X)"
   ],
   "metadata": {},
   "execution_count": 6
  },
  {
   "outputs": [
    {
     "output_type": "execute_result",
     "data": {
      "text/plain": "(ScientificTypes.Multiclass{4}, Union{Missing, Continuous}, ScientificTypes.OrderedFactor{3})"
     },
     "metadata": {},
     "execution_count": 7
    }
   ],
   "cell_type": "code",
   "source": [
    "schema(Xfixed).scitypes"
   ],
   "metadata": {},
   "execution_count": 7
  },
  {
   "outputs": [],
   "cell_type": "markdown",
   "source": [
    "Testing if each column of a table has an element scientific type\n",
    "that subtypes types from a specified list:"
   ],
   "metadata": {}
  },
  {
   "outputs": [
    {
     "output_type": "execute_result",
     "data": {
      "text/plain": "true"
     },
     "metadata": {},
     "execution_count": 8
    }
   ],
   "cell_type": "code",
   "source": [
    "scitype(Xfixed) <: Table(Union{Missing,Continuous}, Finite)"
   ],
   "metadata": {},
   "execution_count": 8
  },
  {
   "outputs": [],
   "cell_type": "markdown",
   "source": [
    "### Notes"
   ],
   "metadata": {}
  },
  {
   "outputs": [],
   "cell_type": "markdown",
   "source": [
    "- We regard the built-in julia type `Missing` as a scientific\n",
    "  type. The new scientific types introduced in the current package\n",
    "  are rooted in the abstract type `Found` (see tree above) and we\n",
    "  export the alias `Scientific = Union{Missing, Found}`."
   ],
   "metadata": {}
  },
  {
   "outputs": [],
   "cell_type": "markdown",
   "source": [
    "- `Finite{N}`, `Muliticlass{N}` and `OrderedFactor{N}` are all\n",
    "  parameterized by an integer `N`. We export the alias `Binary =\n",
    "  Multiclass{2}`."
   ],
   "metadata": {}
  },
  {
   "outputs": [],
   "cell_type": "markdown",
   "source": [
    "- The function `scitype` has the fallback value `Unknown`."
   ],
   "metadata": {}
  },
  {
   "outputs": [],
   "cell_type": "markdown",
   "source": [
    "- Since Tables is an optional dependency, the `scitype` of a\n",
    "  Tables.jl supported table is `Unknown` unless Tables has been imported."
   ],
   "metadata": {}
  },
  {
   "outputs": [],
   "cell_type": "markdown",
   "source": [
    "- Developers can define their own conventions using the code in\n",
    "  \"src/conventions/mlj/\" as a template. The active convention is\n",
    "  controlled by the value of `ScientificTypes.CONVENTION[1]`."
   ],
   "metadata": {}
  },
  {
   "outputs": [],
   "cell_type": "markdown",
   "source": [
    "### Detailed usage examples"
   ],
   "metadata": {}
  },
  {
   "outputs": [],
   "cell_type": "code",
   "source": [
    "using ScientificTypes"
   ],
   "metadata": {},
   "execution_count": 9
  },
  {
   "outputs": [],
   "cell_type": "markdown",
   "source": [
    "Activate a convention:"
   ],
   "metadata": {}
  },
  {
   "outputs": [],
   "cell_type": "code",
   "source": [
    "mlj() # redundant, as the default"
   ],
   "metadata": {},
   "execution_count": 10
  },
  {
   "outputs": [
    {
     "output_type": "execute_result",
     "data": {
      "text/plain": "ScientificTypes.Continuous"
     },
     "metadata": {},
     "execution_count": 11
    }
   ],
   "cell_type": "code",
   "source": [
    "scitype(3.142)"
   ],
   "metadata": {},
   "execution_count": 11
  },
  {
   "outputs": [
    {
     "output_type": "execute_result",
     "data": {
      "text/plain": "Tuple{ScientificTypes.Continuous,ScientificTypes.Count}"
     },
     "metadata": {},
     "execution_count": 12
    }
   ],
   "cell_type": "code",
   "source": [
    "scitype((2.718, 42))"
   ],
   "metadata": {},
   "execution_count": 12
  },
  {
   "outputs": [
    {
     "output_type": "execute_result",
     "data": {
      "text/plain": "ScientificTypes.OrderedFactor{3}"
     },
     "metadata": {},
     "execution_count": 13
    }
   ],
   "cell_type": "code",
   "source": [
    "using CategoricalArrays\n",
    "v = categorical(['a', 'c', 'a', missing, 'b'], ordered=true)\n",
    "scitype(v[1])"
   ],
   "metadata": {},
   "execution_count": 13
  },
  {
   "outputs": [
    {
     "output_type": "execute_result",
     "data": {
      "text/plain": "AbstractArray{Union{Missing, OrderedFactor{3}},1}"
     },
     "metadata": {},
     "execution_count": 14
    }
   ],
   "cell_type": "code",
   "source": [
    "scitype(v)"
   ],
   "metadata": {},
   "execution_count": 14
  },
  {
   "outputs": [
    {
     "output_type": "execute_result",
     "data": {
      "text/plain": "AbstractArray{Union{Missing, Count},1}"
     },
     "metadata": {},
     "execution_count": 15
    }
   ],
   "cell_type": "code",
   "source": [
    "v = [1, 2, missing, 3];\n",
    "scitype(v)"
   ],
   "metadata": {},
   "execution_count": 15
  },
  {
   "outputs": [
    {
     "name": "stdout",
     "output_type": "stream",
     "text": [
      "┌ Warning: Missing values encountered coercing scitype to ScientificTypes.Multiclass.\n",
      "│ Coerced to Union{Missing,ScientificTypes.Multiclass} instead. \n",
      "└ @ ScientificTypes /Users/anthony/Dropbox/Julia7/MLJ/ScientificTypes/src/conventions/mlj/mlj.jl:5\n"
     ]
    },
    {
     "output_type": "execute_result",
     "data": {
      "text/plain": "AbstractArray{Union{Missing, Multiclass{3}},1}"
     },
     "metadata": {},
     "execution_count": 16
    }
   ],
   "cell_type": "code",
   "source": [
    "w = coerce(Multiclass, v);\n",
    "scitype(w)"
   ],
   "metadata": {},
   "execution_count": 16
  },
  {
   "outputs": [
    {
     "output_type": "execute_result",
     "data": {
      "text/plain": "ScientificTypes.Table{AbstractArray{ScientificTypes.Continuous,1}}"
     },
     "metadata": {},
     "execution_count": 17
    }
   ],
   "cell_type": "code",
   "source": [
    "using Tables\n",
    "T = (x1=rand(10), x2=rand(10), x3=rand(10))\n",
    "scitype(T)"
   ],
   "metadata": {},
   "execution_count": 17
  },
  {
   "outputs": [],
   "cell_type": "code",
   "source": [
    "using DataFrames\n",
    "X = DataFrame(x1=1:5, x2=6:10, x3=11:15, x4=[16, 17, missing, 19, 20]);"
   ],
   "metadata": {},
   "execution_count": 18
  },
  {
   "outputs": [
    {
     "output_type": "execute_result",
     "data": {
      "text/plain": "ScientificTypes.Table{Union{AbstractArray{Count,1}, AbstractArray{Union{Missing, Count},1}}}"
     },
     "metadata": {},
     "execution_count": 19
    }
   ],
   "cell_type": "code",
   "source": [
    "scitype(X)"
   ],
   "metadata": {},
   "execution_count": 19
  },
  {
   "outputs": [
    {
     "output_type": "execute_result",
     "data": {
      "text/plain": "(names = (:x1, :x2, :x3, :x4), types = (Int64, Int64, Int64, Union{Missing, Int64}), scitypes = (ScientificTypes.Count, ScientificTypes.Count, ScientificTypes.Count, Union{Missing, Count}))"
     },
     "metadata": {},
     "execution_count": 20
    }
   ],
   "cell_type": "code",
   "source": [
    "schema(X)"
   ],
   "metadata": {},
   "execution_count": 20
  },
  {
   "outputs": [
    {
     "name": "stdout",
     "output_type": "stream",
     "text": [
      "┌ Warning: Missing values encountered coercing scitype to ScientificTypes.OrderedFactor.\n",
      "│ Coerced to Union{Missing,ScientificTypes.OrderedFactor} instead. \n",
      "└ @ ScientificTypes /Users/anthony/Dropbox/Julia7/MLJ/ScientificTypes/src/conventions/mlj/mlj.jl:5\n"
     ]
    },
    {
     "output_type": "execute_result",
     "data": {
      "text/plain": "ScientificTypes.Table{Union{AbstractArray{Multiclass{4},1}, AbstractArray{Union{Missing, Continuous},1}, AbstractArray{OrderedFactor{3},1}}}"
     },
     "metadata": {},
     "execution_count": 21
    }
   ],
   "cell_type": "code",
   "source": [
    "fix = Dict(:x1=>Continuous, :x2=>Continuous,\n",
    "           :x3=>Multiclass, :x4=>OrderedFactor)\n",
    "fixed = coerce(fix, X);\n",
    "scitype(Xfixed)"
   ],
   "metadata": {},
   "execution_count": 21
  },
  {
   "outputs": [
    {
     "output_type": "execute_result",
     "data": {
      "text/plain": "false"
     },
     "metadata": {},
     "execution_count": 22
    }
   ],
   "cell_type": "code",
   "source": [
    "scitype(Xfixed) <: Table(Continuous, Finite)"
   ],
   "metadata": {},
   "execution_count": 22
  },
  {
   "outputs": [
    {
     "output_type": "execute_result",
     "data": {
      "text/plain": "false"
     },
     "metadata": {},
     "execution_count": 23
    }
   ],
   "cell_type": "code",
   "source": [
    "scitype(Xfixed) <: Table(Continuous, Union{Finite, Missing})"
   ],
   "metadata": {},
   "execution_count": 23
  },
  {
   "outputs": [],
   "cell_type": "markdown",
   "source": [
    "### The scientific type  of tuples, arrays and tables"
   ],
   "metadata": {}
  },
  {
   "outputs": [],
   "cell_type": "markdown",
   "source": [
    "Note that under any convention, the scitype of a tuple is a `Tuple`\n",
    "type parameterized by scientific types:"
   ],
   "metadata": {}
  },
  {
   "outputs": [
    {
     "output_type": "execute_result",
     "data": {
      "text/plain": "Tuple{ScientificTypes.Count,ScientificTypes.Continuous}"
     },
     "metadata": {},
     "execution_count": 24
    }
   ],
   "cell_type": "code",
   "source": [
    "scitype((1, 4.5))"
   ],
   "metadata": {},
   "execution_count": 24
  },
  {
   "outputs": [],
   "cell_type": "markdown",
   "source": [
    "Similarly, the scitype of an `AbstractArray` object is\n",
    "`AbstractArray{U}`, where `U` is the union of the element scitypes:"
   ],
   "metadata": {}
  },
  {
   "outputs": [
    {
     "output_type": "execute_result",
     "data": {
      "text/plain": "AbstractArray{Union{Missing, Count},1}"
     },
     "metadata": {},
     "execution_count": 25
    }
   ],
   "cell_type": "code",
   "source": [
    "scitype([1,2,3, missing])"
   ],
   "metadata": {},
   "execution_count": 25
  },
  {
   "outputs": [],
   "cell_type": "markdown",
   "source": [
    "Provided the [Tables]() package is loaded, any table implementing\n",
    "the Tables interface has a scitype encoding the scitypes of its\n",
    "columns:"
   ],
   "metadata": {}
  },
  {
   "outputs": [
    {
     "output_type": "execute_result",
     "data": {
      "text/plain": "ScientificTypes.Table{Union{AbstractArray{Continuous,1}, AbstractArray{Multiclass{3},1}, AbstractArray{Multiclass{2},1}}}"
     },
     "metadata": {},
     "execution_count": 26
    }
   ],
   "cell_type": "code",
   "source": [
    "using CategoricalArrays\n",
    "using Tables\n",
    "X = (x1=rand(10),\n",
    "     x2=rand(10),\n",
    "     x3=categorical(rand(\"abc\", 10)),\n",
    "     x4=categorical(rand(\"01\", 10)))\n",
    "scitype(X)"
   ],
   "metadata": {},
   "execution_count": 26
  },
  {
   "outputs": [],
   "cell_type": "markdown",
   "source": [
    "Specifically, if `X` has columns `c1, c2, ..., cn`, then, by definition,"
   ],
   "metadata": {}
  },
  {
   "outputs": [],
   "cell_type": "markdown",
   "source": [
    "```julia\n",
    "scitype(X) = Table{Union{scitype(c1), scitype(c2), ..., scitype(cn)}}\n",
    "```"
   ],
   "metadata": {}
  },
  {
   "outputs": [],
   "cell_type": "markdown",
   "source": [
    "With this definition, we can perform common type checks associated\n",
    "with tables. For example, to check that each column of `X` has an\n",
    "element scitype subtying either `Continuous` or `Finite` (but not\n",
    "`Union{Continuous, Finite}`!), we check"
   ],
   "metadata": {}
  },
  {
   "outputs": [],
   "cell_type": "markdown",
   "source": [
    "```julia\n",
    "scitype(X) <: Table{Union{AbstractVector{Continuous}, AbstractVector{<:Finite}}\n",
    "```"
   ],
   "metadata": {}
  },
  {
   "outputs": [],
   "cell_type": "markdown",
   "source": [
    "A built-in `Table` type constructor provides `Table(Continuous, Finite)` as\n",
    "shorthand for the right-hand side. More generally,"
   ],
   "metadata": {}
  },
  {
   "outputs": [],
   "cell_type": "markdown",
   "source": [
    "```julia\n",
    "scitype(X) <: Table(T1, T2, T3, ..., Tn)\n",
    " ```"
   ],
   "metadata": {}
  },
  {
   "outputs": [],
   "cell_type": "markdown",
   "source": [
    "if and only if `X` is a table and, for every column `col` of `X`,\n",
    "`scitype(col) <: AbstractVector{<:Tj}`, for some `j` between `1` and `n`:"
   ],
   "metadata": {}
  },
  {
   "outputs": [
    {
     "output_type": "execute_result",
     "data": {
      "text/plain": "true"
     },
     "metadata": {},
     "execution_count": 27
    }
   ],
   "cell_type": "code",
   "source": [
    "scitype(X) <: Table(Continuous, Finite)"
   ],
   "metadata": {},
   "execution_count": 27
  },
  {
   "outputs": [],
   "cell_type": "markdown",
   "source": [
    "Note that `Table(Continuous, Finite)` is a *type* union and not a\n",
    "`Table` *instance*."
   ],
   "metadata": {}
  },
  {
   "outputs": [],
   "cell_type": "markdown",
   "source": [
    "Detailed inspection of column scientific types is included in an\n",
    "extended form of Tables.schema:"
   ],
   "metadata": {}
  },
  {
   "outputs": [
    {
     "output_type": "execute_result",
     "data": {
      "text/plain": "(names = (:x1, :x2, :x3, :x4), types = (Float64, Float64, CategoricalArrays.CategoricalValue{Char,UInt32}, CategoricalArrays.CategoricalValue{Char,UInt32}), scitypes = (ScientificTypes.Continuous, ScientificTypes.Continuous, ScientificTypes.Multiclass{3}, ScientificTypes.Multiclass{2}))"
     },
     "metadata": {},
     "execution_count": 28
    }
   ],
   "cell_type": "code",
   "source": [
    "schema(X)"
   ],
   "metadata": {},
   "execution_count": 28
  },
  {
   "outputs": [
    {
     "output_type": "execute_result",
     "data": {
      "text/plain": "(ScientificTypes.Continuous, ScientificTypes.Continuous, ScientificTypes.Multiclass{3}, ScientificTypes.Multiclass{2})"
     },
     "metadata": {},
     "execution_count": 29
    }
   ],
   "cell_type": "code",
   "source": [
    "schema(X).scitypes"
   ],
   "metadata": {},
   "execution_count": 29
  },
  {
   "outputs": [
    {
     "output_type": "execute_result",
     "data": {
      "text/plain": "ScientificTypes.Schema{(:x1, :x2, :x3, :x4),Tuple{Float64,Float64,CategoricalArrays.CategoricalValue{Char,UInt32},CategoricalArrays.CategoricalValue{Char,UInt32}},Tuple{ScientificTypes.Continuous,ScientificTypes.Continuous,ScientificTypes.Multiclass{3},ScientificTypes.Multiclass{2}}}"
     },
     "metadata": {},
     "execution_count": 30
    }
   ],
   "cell_type": "code",
   "source": [
    "typeof(schema(X))"
   ],
   "metadata": {},
   "execution_count": 30
  },
  {
   "outputs": [],
   "cell_type": "markdown",
   "source": [
    "### The *mlj* convention"
   ],
   "metadata": {}
  },
  {
   "outputs": [],
   "cell_type": "markdown",
   "source": [
    "The table below summarizes the *mlj* convention for representing\n",
    "scientific types:"
   ],
   "metadata": {}
  },
  {
   "outputs": [],
   "cell_type": "markdown",
   "source": [
    "`T`                               | `scitype(x)` for `x::T`                                                     | requires package\n",
    "----------------------------------|:----------------------------------------------------------------------------|:------------------------\n",
    "`Missing`                         | `Missing`                                                                   |\n",
    "`AbstractFloat`                   | `Continuous`                                                                |\n",
    "`Integer`                         |  `Count`                                                                    |\n",
    "`CategoricalValue`                | `Multiclass{N}` where `N = nlevels(x)`, provided `x.pool.ordered == false`  | CategoricalArrays\n",
    "`CategoricalString`               | `Multiclass{N}` where `N = nlevels(x)`, provided `x.pool.ordered == false`  | CategoricalArrays\n",
    "`CategoricalValue`                | `OrderedFactor{N}` where `N = nlevels(x)`, provided `x.pool.ordered == true`| CategoricalArrays\n",
    "`CategoricalString`               | `OrderedFactor{N}` where `N = nlevels(x)` provided `x.pool.ordered == true` | CategoricalArrays\n",
    "`AbstractArray{<:Gray,2}`         | `GrayImage`                                                                 | ColorTypes\n",
    "`AbstractArrray{<:AbstractRGB,2}` | `ColorImage`                                                                | ColorTypes\n",
    "any table type `T` supported by Tables.jl | `Table{K}` where `K=Union{column_scitypes...}`                      | Tables"
   ],
   "metadata": {}
  },
  {
   "outputs": [],
   "cell_type": "markdown",
   "source": [
    "Here `nlevels(x) = length(levels(x.pool))`."
   ],
   "metadata": {}
  },
  {
   "outputs": [],
   "cell_type": "markdown",
   "source": [
    "*This notebook was generated using [Literate.jl](https://github.com/fredrikekre/Literate.jl).*"
   ],
   "metadata": {}
  }
 ],
 "nbformat_minor": 3,
 "metadata": {
  "language_info": {
   "file_extension": ".jl",
   "mimetype": "application/julia",
   "name": "julia",
   "version": "1.1.1"
  },
  "kernelspec": {
   "name": "julia-1.1",
   "display_name": "Julia 1.1.1",
   "language": "julia"
  }
 },
 "nbformat": 4
}
