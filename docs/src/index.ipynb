{
 "cells": [
  {
   "cell_type": "markdown",
   "metadata": {},
   "source": [
    "## ScientificTypes"
   ]
  },
  {
   "cell_type": "markdown",
   "metadata": {},
   "source": [
    "A light-weight julia interface for implementing conventions about the\n",
    "scientific interpretation of data, and for performing type coercions\n",
    "enforcing those conventions."
   ]
  },
  {
   "cell_type": "markdown",
   "metadata": {},
   "source": [
    "[![Build\n",
    "Status](https://travis-ci.com/alan-turing-institute/ScientificTypes.jl.svg?branch=master)](https://travis-ci.com/alan-turing-institute/ScientificTypes.jl)"
   ]
  },
  {
   "cell_type": "markdown",
   "metadata": {},
   "source": [
    "ScientificTypes provides:"
   ]
  },
  {
   "cell_type": "markdown",
   "metadata": {},
   "source": [
    "- A hierarchy of new julia types representing scientific data types\n",
    "  for use in method dispatch (eg, for trait values). Instances of\n",
    "  the types play no role:"
   ]
  },
  {
   "cell_type": "code",
   "execution_count": 31,
   "metadata": {},
   "outputs": [
    {
     "name": "stdout",
     "output_type": "stream",
     "text": [
      "Found\n",
      "├─ Known\n",
      "│  ├─ Finite\n",
      "│  │  ├─ Multiclass\n",
      "│  │  └─ OrderedFactor\n",
      "│  ├─ Infinite\n",
      "│  │  ├─ Continuous\n",
      "│  │  └─ Count\n",
      "│  ├─ Image\n",
      "│  │  ├─ ColorImage\n",
      "│  │  └─ GrayImage\n",
      "│  └─ Table\n",
      "└─ Unknown\n"
     ]
    }
   ],
   "source": [
    "using ScientificTypes, AbstractTrees\n",
    "ScientificTypes.tree()"
   ]
  },
  {
   "cell_type": "markdown",
   "metadata": {},
   "source": [
    "- A single method `scitype` for articulating a convention about what\n",
    "  scientific type each julia object can represent. For example, one\n",
    "  might declare `scitype(::AbstractFloat) = Continuous`."
   ]
  },
  {
   "cell_type": "markdown",
   "metadata": {},
   "source": [
    "- A default convention called *mlj*, based on optional dependencies\n",
    "  CategoricalArrays, ColorTypes, and Tables, which includes a convenience\n",
    "  method `coerce` for performing scientific type coercion on\n",
    "  AbstractVectors and columns of tabular data (any table\n",
    "  implementing the\n",
    "  [Tables.jl](https://github.com/JuliaData/Tables.jl) interface). A\n",
    "  table at the end of this document details the convention."
   ]
  },
  {
   "cell_type": "markdown",
   "metadata": {},
   "source": [
    "- A `schema` method for tabular data, based on the optional Tables\n",
    "  dependency, for inspecting the machine and scientific types of\n",
    "  tabular data, in addition to column names and number of rows"
   ]
  },
  {
   "cell_type": "markdown",
   "metadata": {},
   "source": [
    "The only core dependencies of ScientificTypes are Requires and\n",
    "InteractiveUtils (from the standard library)."
   ]
  },
  {
   "cell_type": "markdown",
   "metadata": {},
   "source": [
    "### Quick start"
   ]
  },
  {
   "cell_type": "markdown",
   "metadata": {},
   "source": [
    "Install with `using Pkg; add ScientificTypes`."
   ]
  },
  {
   "cell_type": "markdown",
   "metadata": {},
   "source": [
    "Get the scientific type of some julia object, using the default\n",
    "convention:"
   ]
  },
  {
   "cell_type": "code",
   "execution_count": 32,
   "metadata": {},
   "outputs": [
    {
     "data": {
      "text/plain": [
       "Continuous"
      ]
     },
     "execution_count": 32,
     "metadata": {},
     "output_type": "execute_result"
    }
   ],
   "source": [
    "scitype(3.14)"
   ]
  },
  {
   "cell_type": "markdown",
   "metadata": {},
   "source": [
    "#### Typical type coercion work-flow for tabular data"
   ]
  },
  {
   "cell_type": "code",
   "execution_count": 33,
   "metadata": {},
   "outputs": [
    {
     "data": {
      "text/html": [
       "<table class=\"data-frame\"><thead><tr><th></th><th>name</th><th>height</th><th>rating</th></tr><tr><th></th><th>String</th><th>Int64⍰</th><th>Int64</th></tr></thead><tbody><p>4 rows × 3 columns</p><tr><th>1</th><td>Siri</td><td>152</td><td>1</td></tr><tr><th>2</th><td>Robo</td><td>missing</td><td>5</td></tr><tr><th>3</th><td>Alexa</td><td>148</td><td>2</td></tr><tr><th>4</th><td>Cortana</td><td>163</td><td>1</td></tr></tbody></table>"
      ],
      "text/latex": [
       "\\begin{tabular}{r|ccc}\n",
       "\t& name & height & rating\\\\\n",
       "\t\\hline\n",
       "\t& String & Int64⍰ & Int64\\\\\n",
       "\t\\hline\n",
       "\t1 & Siri & 152 & 1 \\\\\n",
       "\t2 & Robo &  & 5 \\\\\n",
       "\t3 & Alexa & 148 & 2 \\\\\n",
       "\t4 & Cortana & 163 & 1 \\\\\n",
       "\\end{tabular}\n"
      ],
      "text/plain": [
       "4×3 DataFrame\n",
       "│ Row │ name    │ height  │ rating │\n",
       "│     │ \u001b[90mString\u001b[39m  │ \u001b[90mInt64⍰\u001b[39m  │ \u001b[90mInt64\u001b[39m  │\n",
       "├─────┼─────────┼─────────┼────────┤\n",
       "│ 1   │ Siri    │ 152     │ 1      │\n",
       "│ 2   │ Robo    │ \u001b[90mmissing\u001b[39m │ 5      │\n",
       "│ 3   │ Alexa   │ 148     │ 2      │\n",
       "│ 4   │ Cortana │ 163     │ 1      │"
      ]
     },
     "execution_count": 33,
     "metadata": {},
     "output_type": "execute_result"
    }
   ],
   "source": [
    "using CategoricalArrays, DataFrames, Tables\n",
    "X = DataFrame(name=[\"Siri\", \"Robo\", \"Alexa\", \"Cortana\"],\n",
    "              height=[152, missing, 148, 163],\n",
    "              rating=[1, 5, 2, 1])"
   ]
  },
  {
   "cell_type": "code",
   "execution_count": 34,
   "metadata": {},
   "outputs": [
    {
     "data": {
      "text/plain": [
       "(names = (:name, :height, :rating), types = (String, Union{Missing, Int64}, Int64), scitypes = (Unknown, Union{Missing, Count}, Count), nrows = 4)"
      ]
     },
     "execution_count": 34,
     "metadata": {},
     "output_type": "execute_result"
    }
   ],
   "source": [
    "schema(X)"
   ]
  },
  {
   "cell_type": "code",
   "execution_count": 35,
   "metadata": {},
   "outputs": [
    {
     "data": {
      "text/plain": [
       "(Unknown, Union{Missing, Count}, Count)"
      ]
     },
     "execution_count": 35,
     "metadata": {},
     "output_type": "execute_result"
    }
   ],
   "source": [
    "schema(X).scitypes"
   ]
  },
  {
   "cell_type": "code",
   "execution_count": 36,
   "metadata": {},
   "outputs": [
    {
     "name": "stderr",
     "output_type": "stream",
     "text": [
      "┌ Warning: Missing values encountered coercing scitype to Continuous.\n",
      "│ Coerced to Union{Missing,Continuous} instead. \n",
      "└ @ ScientificTypes /Users/anthony/Dropbox/Julia7/MLJ/ScientificTypes/src/conventions/mlj/mlj.jl:5\n"
     ]
    }
   ],
   "source": [
    "Xfixed = coerce(X, :name=>Multiclass,\n",
    "                   :height=>Continuous,\n",
    "                   :rating=>OrderedFactor);"
   ]
  },
  {
   "cell_type": "code",
   "execution_count": 37,
   "metadata": {},
   "outputs": [
    {
     "data": {
      "text/plain": [
       "(Multiclass{4}, Union{Missing, Continuous}, OrderedFactor{3})"
      ]
     },
     "execution_count": 37,
     "metadata": {},
     "output_type": "execute_result"
    }
   ],
   "source": [
    "schema(Xfixed).scitypes"
   ]
  },
  {
   "cell_type": "markdown",
   "metadata": {},
   "source": [
    "Testing if each column of a table has an element scientific type\n",
    "that subtypes types from a specified list:"
   ]
  },
  {
   "cell_type": "code",
   "execution_count": 38,
   "metadata": {},
   "outputs": [
    {
     "data": {
      "text/plain": [
       "true"
      ]
     },
     "execution_count": 38,
     "metadata": {},
     "output_type": "execute_result"
    }
   ],
   "source": [
    "scitype(Xfixed) <: Table(Union{Missing,Continuous}, Finite)"
   ]
  },
  {
   "cell_type": "markdown",
   "metadata": {},
   "source": [
    "### Notes"
   ]
  },
  {
   "cell_type": "markdown",
   "metadata": {},
   "source": [
    "- We regard the built-in julia type `Missing` as a scientific\n",
    "  type. The new scientific types introduced in the current package\n",
    "  are rooted in the abstract type `Found` (see tree above) and we\n",
    "  export the alias `Scientific = Union{Missing, Found}`."
   ]
  },
  {
   "cell_type": "markdown",
   "metadata": {},
   "source": [
    "- `Finite{N}`, `Muliticlass{N}` and `OrderedFactor{N}` are all\n",
    "  parameterized by the number of levels `N`. We export the alias\n",
    "  `Binary = Finite{2}`."
   ]
  },
  {
   "cell_type": "markdown",
   "metadata": {},
   "source": [
    "- `Image{W,H}`, `GrayImage{W,H}` and `ColorImage{W,H}` are all\n",
    "  parameterized by the image width and height dimensions, `(W, H)`."
   ]
  },
  {
   "cell_type": "markdown",
   "metadata": {},
   "source": [
    "- The function `scitype` has the fallback value `Unknown`."
   ]
  },
  {
   "cell_type": "markdown",
   "metadata": {},
   "source": [
    "- Since Tables is an optional dependency, the `scitype` of a\n",
    "  Tables.jl supported table is `Unknown` unless Tables has been imported."
   ]
  },
  {
   "cell_type": "markdown",
   "metadata": {},
   "source": [
    "- Developers can define their own conventions using the code in\n",
    "  \"src/conventions/mlj/\" as a template. The active convention is\n",
    "  controlled by the value of `ScientificTypes.CONVENTION[1]`."
   ]
  },
  {
   "cell_type": "markdown",
   "metadata": {},
   "source": [
    "### Detailed usage examples"
   ]
  },
  {
   "cell_type": "code",
   "execution_count": 39,
   "metadata": {},
   "outputs": [],
   "source": [
    "using ScientificTypes"
   ]
  },
  {
   "cell_type": "markdown",
   "metadata": {},
   "source": [
    "Activate a convention:"
   ]
  },
  {
   "cell_type": "code",
   "execution_count": 40,
   "metadata": {},
   "outputs": [],
   "source": [
    "mlj() # redundant, as the default"
   ]
  },
  {
   "cell_type": "code",
   "execution_count": 41,
   "metadata": {},
   "outputs": [
    {
     "data": {
      "text/plain": [
       "Continuous"
      ]
     },
     "execution_count": 41,
     "metadata": {},
     "output_type": "execute_result"
    }
   ],
   "source": [
    "scitype(3.142)"
   ]
  },
  {
   "cell_type": "code",
   "execution_count": 42,
   "metadata": {},
   "outputs": [
    {
     "data": {
      "text/plain": [
       "Tuple{Continuous,Count}"
      ]
     },
     "execution_count": 42,
     "metadata": {},
     "output_type": "execute_result"
    }
   ],
   "source": [
    "scitype((2.718, 42))"
   ]
  },
  {
   "cell_type": "code",
   "execution_count": 43,
   "metadata": {},
   "outputs": [
    {
     "data": {
      "text/plain": [
       "OrderedFactor{3}"
      ]
     },
     "execution_count": 43,
     "metadata": {},
     "output_type": "execute_result"
    }
   ],
   "source": [
    "using CategoricalArrays\n",
    "v = categorical(['a', 'c', 'a', missing, 'b'], ordered=true)\n",
    "scitype(v[1])"
   ]
  },
  {
   "cell_type": "code",
   "execution_count": 44,
   "metadata": {},
   "outputs": [
    {
     "data": {
      "text/plain": [
       "AbstractArray{Union{Missing, OrderedFactor{3}},1}"
      ]
     },
     "execution_count": 44,
     "metadata": {},
     "output_type": "execute_result"
    }
   ],
   "source": [
    "scitype(v)"
   ]
  },
  {
   "cell_type": "code",
   "execution_count": 45,
   "metadata": {},
   "outputs": [
    {
     "data": {
      "text/plain": [
       "AbstractArray{Union{Missing, Count},1}"
      ]
     },
     "execution_count": 45,
     "metadata": {},
     "output_type": "execute_result"
    }
   ],
   "source": [
    "v = [1, 2, missing, 3];\n",
    "scitype(v)"
   ]
  },
  {
   "cell_type": "code",
   "execution_count": 46,
   "metadata": {},
   "outputs": [
    {
     "name": "stderr",
     "output_type": "stream",
     "text": [
      "┌ Warning: Missing values encountered coercing scitype to Multiclass.\n",
      "│ Coerced to Union{Missing,Multiclass} instead. \n",
      "└ @ ScientificTypes /Users/anthony/Dropbox/Julia7/MLJ/ScientificTypes/src/conventions/mlj/mlj.jl:5\n"
     ]
    },
    {
     "data": {
      "text/plain": [
       "AbstractArray{Union{Missing, Multiclass{3}},1}"
      ]
     },
     "execution_count": 46,
     "metadata": {},
     "output_type": "execute_result"
    }
   ],
   "source": [
    "w = coerce(v, Multiclass);\n",
    "scitype(w)"
   ]
  },
  {
   "cell_type": "code",
   "execution_count": 47,
   "metadata": {},
   "outputs": [
    {
     "data": {
      "text/plain": [
       "Table{AbstractArray{Continuous,1}}"
      ]
     },
     "execution_count": 47,
     "metadata": {},
     "output_type": "execute_result"
    }
   ],
   "source": [
    "using Tables\n",
    "T = (x1=rand(10), x2=rand(10), x3=rand(10))\n",
    "scitype(T)"
   ]
  },
  {
   "cell_type": "code",
   "execution_count": 48,
   "metadata": {},
   "outputs": [],
   "source": [
    "using DataFrames\n",
    "X = DataFrame(x1=1:5, x2=6:10, x3=11:15, x4=[16, 17, missing, 19, 20]);"
   ]
  },
  {
   "cell_type": "code",
   "execution_count": 49,
   "metadata": {},
   "outputs": [
    {
     "data": {
      "text/plain": [
       "Table{Union{AbstractArray{Count,1}, AbstractArray{Union{Missing, Count},1}}}"
      ]
     },
     "execution_count": 49,
     "metadata": {},
     "output_type": "execute_result"
    }
   ],
   "source": [
    "scitype(X)"
   ]
  },
  {
   "cell_type": "code",
   "execution_count": 50,
   "metadata": {},
   "outputs": [
    {
     "data": {
      "text/plain": [
       "(names = (:x1, :x2, :x3, :x4), types = (Int64, Int64, Int64, Union{Missing, Int64}), scitypes = (Count, Count, Count, Union{Missing, Count}), nrows = 5)"
      ]
     },
     "execution_count": 50,
     "metadata": {},
     "output_type": "execute_result"
    }
   ],
   "source": [
    "schema(X)"
   ]
  },
  {
   "cell_type": "code",
   "execution_count": 51,
   "metadata": {},
   "outputs": [
    {
     "name": "stderr",
     "output_type": "stream",
     "text": [
      "┌ Warning: Missing values encountered coercing scitype to OrderedFactor.\n",
      "│ Coerced to Union{Missing,OrderedFactor} instead. \n",
      "└ @ ScientificTypes /Users/anthony/Dropbox/Julia7/MLJ/ScientificTypes/src/conventions/mlj/mlj.jl:5\n"
     ]
    },
    {
     "data": {
      "text/plain": [
       "Table{Union{AbstractArray{Continuous,1}, AbstractArray{Multiclass{5},1}, AbstractArray{Union{Missing, OrderedFactor{4}},1}}}"
      ]
     },
     "execution_count": 51,
     "metadata": {},
     "output_type": "execute_result"
    }
   ],
   "source": [
    "Xfixed = coerce(X, :x1=>Continuous,\n",
    "                   :x2=>Continuous,\n",
    "                   :x3=>Multiclass,\n",
    "                   :x4=>OrderedFactor)\n",
    "scitype(Xfixed)"
   ]
  },
  {
   "cell_type": "code",
   "execution_count": 52,
   "metadata": {},
   "outputs": [
    {
     "data": {
      "text/plain": [
       "false"
      ]
     },
     "execution_count": 52,
     "metadata": {},
     "output_type": "execute_result"
    }
   ],
   "source": [
    "scitype(Xfixed) <: Table(Continuous, Finite)"
   ]
  },
  {
   "cell_type": "code",
   "execution_count": 53,
   "metadata": {},
   "outputs": [
    {
     "data": {
      "text/plain": [
       "true"
      ]
     },
     "execution_count": 53,
     "metadata": {},
     "output_type": "execute_result"
    }
   ],
   "source": [
    "scitype(Xfixed) <: Table(Continuous, Union{Finite, Missing})"
   ]
  },
  {
   "cell_type": "markdown",
   "metadata": {},
   "source": [
    "### The scientific type  of tuples, arrays and tables"
   ]
  },
  {
   "cell_type": "markdown",
   "metadata": {},
   "source": [
    "Note that under any convention, the scitype of a tuple is a `Tuple`\n",
    "type parameterized by scientific types:"
   ]
  },
  {
   "cell_type": "code",
   "execution_count": 54,
   "metadata": {},
   "outputs": [
    {
     "data": {
      "text/plain": [
       "Tuple{Count,Continuous}"
      ]
     },
     "execution_count": 54,
     "metadata": {},
     "output_type": "execute_result"
    }
   ],
   "source": [
    "scitype((1, 4.5))"
   ]
  },
  {
   "cell_type": "markdown",
   "metadata": {},
   "source": [
    "Similarly, the scitype of an `AbstractArray` object is\n",
    "`AbstractArray{U}`, where `U` is the union of the element scitypes:"
   ]
  },
  {
   "cell_type": "code",
   "execution_count": 55,
   "metadata": {},
   "outputs": [
    {
     "data": {
      "text/plain": [
       "AbstractArray{Union{Missing, Count},1}"
      ]
     },
     "execution_count": 55,
     "metadata": {},
     "output_type": "execute_result"
    }
   ],
   "source": [
    "scitype([1,2,3, missing])"
   ]
  },
  {
   "cell_type": "markdown",
   "metadata": {},
   "source": [
    "Provided the [Tables]() package is loaded, any table implementing\n",
    "the Tables interface has a scitype encoding the scitypes of its\n",
    "columns:"
   ]
  },
  {
   "cell_type": "code",
   "execution_count": 56,
   "metadata": {},
   "outputs": [
    {
     "data": {
      "text/plain": [
       "Table{Union{AbstractArray{Continuous,1}, AbstractArray{Multiclass{3},1}, AbstractArray{Multiclass{2},1}}}"
      ]
     },
     "execution_count": 56,
     "metadata": {},
     "output_type": "execute_result"
    }
   ],
   "source": [
    "using CategoricalArrays\n",
    "using Tables\n",
    "X = (x1=rand(10),\n",
    "     x2=rand(10),\n",
    "     x3=categorical(rand(\"abc\", 10)),\n",
    "     x4=categorical(rand(\"01\", 10)))\n",
    "scitype(X)"
   ]
  },
  {
   "cell_type": "markdown",
   "metadata": {},
   "source": [
    "Specifically, if `X` has columns `c1, c2, ..., cn`, then, by definition,"
   ]
  },
  {
   "cell_type": "markdown",
   "metadata": {},
   "source": [
    "```julia\n",
    "scitype(X) = Table{Union{scitype(c1), scitype(c2), ..., scitype(cn)}}\n",
    "```"
   ]
  },
  {
   "cell_type": "markdown",
   "metadata": {},
   "source": [
    "With this definition, we can perform common type checks associated\n",
    "with tables. For example, to check that each column of `X` has an\n",
    "element scitype subtying either `Continuous` or `Finite` (but not\n",
    "`Union{Continuous, Finite}`!), we check"
   ]
  },
  {
   "cell_type": "markdown",
   "metadata": {},
   "source": [
    "```julia\n",
    "scitype(X) <: Table{Union{AbstractVector{Continuous}, AbstractVector{<:Finite}}\n",
    "```"
   ]
  },
  {
   "cell_type": "markdown",
   "metadata": {},
   "source": [
    "A built-in `Table` type constructor provides `Table(Continuous, Finite)` as\n",
    "shorthand for the right-hand side. More generally,"
   ]
  },
  {
   "cell_type": "markdown",
   "metadata": {},
   "source": [
    "```julia\n",
    "scitype(X) <: Table(T1, T2, T3, ..., Tn)\n",
    " ```"
   ]
  },
  {
   "cell_type": "markdown",
   "metadata": {},
   "source": [
    "if and only if `X` is a table and, for every column `col` of `X`,\n",
    "`scitype(col) <: AbstractVector{<:Tj}`, for some `j` between `1` and `n`:"
   ]
  },
  {
   "cell_type": "code",
   "execution_count": 57,
   "metadata": {},
   "outputs": [
    {
     "data": {
      "text/plain": [
       "true"
      ]
     },
     "execution_count": 57,
     "metadata": {},
     "output_type": "execute_result"
    }
   ],
   "source": [
    "scitype(X) <: Table(Continuous, Finite)"
   ]
  },
  {
   "cell_type": "markdown",
   "metadata": {},
   "source": [
    "Note that `Table(Continuous, Finite)` is a *type* union and not a\n",
    "`Table` *instance*."
   ]
  },
  {
   "cell_type": "markdown",
   "metadata": {},
   "source": [
    "Detailed inspection of column scientific types is included in an\n",
    "extended form of Tables.schema:"
   ]
  },
  {
   "cell_type": "code",
   "execution_count": 58,
   "metadata": {},
   "outputs": [
    {
     "data": {
      "text/plain": [
       "(names = (:x1, :x2, :x3, :x4), types = (Float64, Float64, CategoricalValue{Char,UInt32}, CategoricalValue{Char,UInt32}), scitypes = (Continuous, Continuous, Multiclass{3}, Multiclass{2}), nrows = 10)"
      ]
     },
     "execution_count": 58,
     "metadata": {},
     "output_type": "execute_result"
    }
   ],
   "source": [
    "schema(X)"
   ]
  },
  {
   "cell_type": "code",
   "execution_count": 59,
   "metadata": {},
   "outputs": [
    {
     "data": {
      "text/plain": [
       "(Continuous, Continuous, Multiclass{3}, Multiclass{2})"
      ]
     },
     "execution_count": 59,
     "metadata": {},
     "output_type": "execute_result"
    }
   ],
   "source": [
    "schema(X).scitypes"
   ]
  },
  {
   "cell_type": "code",
   "execution_count": 60,
   "metadata": {},
   "outputs": [
    {
     "data": {
      "text/plain": [
       "ScientificTypes.Schema{(:x1, :x2, :x3, :x4),Tuple{Float64,Float64,CategoricalValue{Char,UInt32},CategoricalValue{Char,UInt32}},Tuple{Continuous,Continuous,Multiclass{3},Multiclass{2}},10}"
      ]
     },
     "execution_count": 60,
     "metadata": {},
     "output_type": "execute_result"
    }
   ],
   "source": [
    "typeof(schema(X))"
   ]
  },
  {
   "cell_type": "markdown",
   "metadata": {},
   "source": [
    "### The *mlj* convention"
   ]
  },
  {
   "cell_type": "markdown",
   "metadata": {},
   "source": [
    "The table below summarizes the *mlj* convention for representing\n",
    "scientific types:"
   ]
  },
  {
   "cell_type": "markdown",
   "metadata": {},
   "source": [
    "`T`                               | `scitype(x)` for `x::T`                                                     | requires package\n",
    "----------------------------------|:----------------------------------------------------------------------------|:------------------------\n",
    "`Missing`                         | `Missing`                                                                   |\n",
    "`AbstractFloat`                   | `Continuous`                                                                |\n",
    "`Integer`                         |  `Count`                                                                    |\n",
    "`CategoricalValue`                | `Multiclass{N}` where `N = nlevels(x)`, provided `x.pool.ordered == false`  | CategoricalArrays\n",
    "`CategoricalString`               | `Multiclass{N}` where `N = nlevels(x)`, provided `x.pool.ordered == false`  | CategoricalArrays\n",
    "`CategoricalValue`                | `OrderedFactor{N}` where `N = nlevels(x)`, provided `x.pool.ordered == true`| CategoricalArrays\n",
    "`CategoricalString`               | `OrderedFactor{N}` where `N = nlevels(x)` provided `x.pool.ordered == true` | CategoricalArrays\n",
    "`AbstractArray{<:Gray,2}`         | `GrayImage{W,H}` where `(W, H) = size(x)`                                   | ColorTypes\n",
    "`AbstractArrray{<:AbstractRGB,2}` | `ColorImage{W,H}` where `(W, H) = size(x)`                                  | ColorTypes\n",
    "any table type `T` supported by Tables.jl | `Table{K}` where `K=Union{column_scitypes...}`                      | Tables"
   ]
  },
  {
   "cell_type": "markdown",
   "metadata": {},
   "source": [
    "Here `nlevels(x) = length(levels(x.pool))`."
   ]
  },
  {
   "cell_type": "markdown",
   "metadata": {},
   "source": [
    "*This notebook was generated using [Literate.jl](https://github.com/fredrikekre/Literate.jl).*"
   ]
  }
 ],
 "metadata": {
  "kernelspec": {
   "display_name": "Julia 1.1.1",
   "language": "julia",
   "name": "julia-1.1"
  },
  "language_info": {
   "file_extension": ".jl",
   "mimetype": "application/julia",
   "name": "julia",
   "version": "1.1.1"
  }
 },
 "nbformat": 4,
 "nbformat_minor": 3
}
